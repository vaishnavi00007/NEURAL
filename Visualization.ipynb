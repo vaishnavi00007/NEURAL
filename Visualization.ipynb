{
 "cells": [
  {
   "cell_type": "code",
   "execution_count": 1,
   "id": "1673266d",
   "metadata": {},
   "outputs": [
    {
     "name": "stdout",
     "output_type": "stream",
     "text": [
      "Best theta: [[ 2.0714476 ]\n",
      " [ 0.8462012 ]\n",
      " [ 0.11558536]\n",
      " [-0.26835835]\n",
      " [ 0.32982785]\n",
      " [ 0.00608357]\n",
      " [ 0.07052909]\n",
      " [-0.8798858 ]\n",
      " [-0.86342514]]\n"
     ]
    }
   ],
   "source": [
    "import numpy as np\n",
    "import tensorflow as tf\n",
    "from datetime import datetime\n",
    "from sklearn.datasets import fetch_california_housing\n",
    "from sklearn.preprocessing import StandardScaler\n",
    "\n",
    "# Load and scale the dataset\n",
    "housing = fetch_california_housing()\n",
    "scaler = StandardScaler()\n",
    "scaled_housing_data = scaler.fit_transform(housing.data)\n",
    "m, n = scaled_housing_data.shape\n",
    "scaled_housing_data_plus_bias = np.c_[np.ones((scaled_housing_data.shape[0], 1)), scaled_housing_data]\n",
    "\n",
    "# Hyperparameters\n",
    "n_epochs = 1000\n",
    "learning_rate = 0.01\n",
    "batch_size = 100\n",
    "n_batches = int(np.ceil(m / batch_size))\n",
    "\n",
    "# Log directory setup for TensorBoard\n",
    "now = datetime.utcnow().strftime(\"%Y%m%d%H%M%S\")\n",
    "root_logdir = \"tf_logs\"\n",
    "logdir = \"{}/run-{}/\".format(root_logdir, now)\n",
    "\n",
    "# Convert data to TensorFlow constants and variables with the same dtype (float32)\n",
    "X = tf.constant(scaled_housing_data_plus_bias, dtype=tf.float32, name=\"X\")\n",
    "y = tf.constant(housing.target.reshape(-1, 1), dtype=tf.float32, name=\"y\")\n",
    "theta = tf.Variable(tf.random.uniform([n + 1, 1], -1.0, 1.0, dtype=tf.float32), name=\"theta\")\n",
    "\n",
    "# Prepare logging for TensorBoard\n",
    "file_writer = tf.summary.create_file_writer(logdir)\n",
    "\n",
    "# Function to fetch batches\n",
    "def fetch_batch(epoch, batch_index, batch_size):\n",
    "    np.random.seed(epoch * n_batches + batch_index)\n",
    "    indices = np.random.randint(m, size=batch_size)\n",
    "    X_batch = scaled_housing_data_plus_bias[indices]\n",
    "    y_batch = housing.target.reshape(-1, 1)[indices]\n",
    "    return X_batch.astype(np.float32), y_batch.astype(np.float32)  # Ensure batch data is float32\n",
    "\n",
    "# Gradient Descent Optimization with Mini-Batch Gradient Descent\n",
    "for epoch in range(n_epochs):\n",
    "    for batch_index in range(n_batches):\n",
    "        X_batch, y_batch = fetch_batch(epoch, batch_index, batch_size)\n",
    "        \n",
    "        # Perform gradient descent with GradientTape\n",
    "        with tf.GradientTape() as tape:\n",
    "            y_pred = tf.matmul(X_batch, theta)  # Both X_batch and theta are float32 now\n",
    "            error = y_pred - y_batch\n",
    "            mse = tf.reduce_mean(tf.square(error))\n",
    "\n",
    "        gradients = tape.gradient(mse, [theta])\n",
    "        theta.assign_sub(learning_rate * gradients[0])\n",
    "\n",
    "        # Log MSE every 10 batches\n",
    "        if batch_index % 10 == 0:\n",
    "            step = epoch * n_batches + batch_index\n",
    "            with file_writer.as_default():\n",
    "                tf.summary.scalar('MSE', mse, step=step)\n",
    "\n",
    "# Close the file writer when training is done\n",
    "file_writer.close()\n",
    "\n",
    "# Final theta value\n",
    "print(\"Best theta:\", theta.numpy())\n"
   ]
  },
  {
   "cell_type": "code",
   "execution_count": null,
   "id": "b81e7010",
   "metadata": {},
   "outputs": [],
   "source": []
  }
 ],
 "metadata": {
  "kernelspec": {
   "display_name": "Python 3 (ipykernel)",
   "language": "python",
   "name": "python3"
  },
  "language_info": {
   "codemirror_mode": {
    "name": "ipython",
    "version": 3
   },
   "file_extension": ".py",
   "mimetype": "text/x-python",
   "name": "python",
   "nbconvert_exporter": "python",
   "pygments_lexer": "ipython3",
   "version": "3.11.5"
  }
 },
 "nbformat": 4,
 "nbformat_minor": 5
}
