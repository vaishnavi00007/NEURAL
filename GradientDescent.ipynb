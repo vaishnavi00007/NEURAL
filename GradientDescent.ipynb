{
 "cells": [
  {
   "cell_type": "code",
   "execution_count": 2,
   "id": "d1e67104",
   "metadata": {},
   "outputs": [
    {
     "name": "stdout",
     "output_type": "stream",
     "text": [
      "Epoch 0: MSE = 12.087632179260254\n",
      "Epoch 100: MSE = 0.882064163684845\n",
      "Epoch 200: MSE = 0.66632479429245\n",
      "Epoch 300: MSE = 0.6263855695724487\n",
      "Epoch 400: MSE = 0.599448561668396\n",
      "Epoch 500: MSE = 0.5798088908195496\n",
      "Epoch 600: MSE = 0.5654277205467224\n",
      "Epoch 700: MSE = 0.5548737645149231\n",
      "Epoch 800: MSE = 0.5471107363700867\n",
      "Epoch 900: MSE = 0.5413858294487\n",
      "Best theta: [[ 2.0685525 ]\n",
      " [ 0.8442975 ]\n",
      " [ 0.15867466]\n",
      " [-0.2237363 ]\n",
      " [ 0.24056476]\n",
      " [ 0.00983013]\n",
      " [-0.04301649]\n",
      " [-0.5950789 ]\n",
      " [-0.5640792 ]]\n"
     ]
    }
   ],
   "source": [
    "import numpy as np\n",
    "import tensorflow as tf\n",
    "from sklearn.datasets import fetch_california_housing\n",
    "from sklearn.preprocessing import StandardScaler\n",
    "\n",
    "# Load and scale the dataset\n",
    "housing = fetch_california_housing()\n",
    "scaler = StandardScaler()\n",
    "scaled_housing_data = scaler.fit_transform(housing.data)\n",
    "m, n = scaled_housing_data.shape\n",
    "scaled_housing_data_plus_bias = np.c_[np.ones((m, 1)), scaled_housing_data]\n",
    "\n",
    "# Hyperparameters\n",
    "n_epochs = 1000\n",
    "learning_rate = 0.01\n",
    "\n",
    "# Convert to TensorFlow constants and variables\n",
    "X = tf.constant(scaled_housing_data_plus_bias, dtype=tf.float32, name=\"X\")\n",
    "y = tf.constant(housing.target.reshape(-1, 1), dtype=tf.float32, name=\"y\")\n",
    "theta = tf.Variable(tf.random.uniform([n + 1, 1], -1.0, 1.0), name=\"theta\")\n",
    "\n",
    "# Gradient Descent Optimization\n",
    "for epoch in range(n_epochs):\n",
    "    with tf.GradientTape() as tape:\n",
    "        y_pred = tf.matmul(X, theta)\n",
    "        error = y_pred - y\n",
    "        mse = tf.reduce_mean(tf.square(error))\n",
    "\n",
    "    gradients = tape.gradient(mse, [theta])\n",
    "    theta.assign_sub(learning_rate * gradients[0])\n",
    "\n",
    "    if epoch % 100 == 0:  # Log every 100 epochs\n",
    "        print(f\"Epoch {epoch}: MSE = {mse.numpy()}\")\n",
    "\n",
    "# Final theta value\n",
    "print(\"Best theta:\", theta.numpy())\n"
   ]
  },
  {
   "cell_type": "code",
   "execution_count": null,
   "id": "70b8e1ca",
   "metadata": {},
   "outputs": [],
   "source": []
  }
 ],
 "metadata": {
  "kernelspec": {
   "display_name": "Python 3 (ipykernel)",
   "language": "python",
   "name": "python3"
  },
  "language_info": {
   "codemirror_mode": {
    "name": "ipython",
    "version": 3
   },
   "file_extension": ".py",
   "mimetype": "text/x-python",
   "name": "python",
   "nbconvert_exporter": "python",
   "pygments_lexer": "ipython3",
   "version": "3.11.5"
  }
 },
 "nbformat": 4,
 "nbformat_minor": 5
}
