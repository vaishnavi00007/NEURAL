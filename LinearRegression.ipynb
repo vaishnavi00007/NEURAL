{
 "cells": [
  {
   "cell_type": "code",
   "execution_count": 5,
   "id": "5a076575",
   "metadata": {},
   "outputs": [
    {
     "name": "stdout",
     "output_type": "stream",
     "text": [
      "[[-3.6428120e+01]\n",
      " [ 4.3779790e-01]\n",
      " [ 9.5361024e-03]\n",
      " [-1.0829948e-01]\n",
      " [ 6.4763057e-01]\n",
      " [-3.6803676e-06]\n",
      " [-3.8004683e-03]\n",
      " [-4.1592652e-01]\n",
      " [-4.2852509e-01]]\n"
     ]
    }
   ],
   "source": [
    "import numpy as np\n",
    "import tensorflow as tf\n",
    "from sklearn.datasets import fetch_california_housing\n",
    "\n",
    "# Load dataset\n",
    "housing = fetch_california_housing()\n",
    "\n",
    "# Prepare the data\n",
    "m, n = housing.data.shape\n",
    "housing_data_plus_bias = np.c_[np.ones((m, 1)), housing.data]\n",
    "\n",
    "# Define X and y as TensorFlow constants\n",
    "X = tf.constant(housing_data_plus_bias, dtype=tf.float32, name=\"X\")\n",
    "y = tf.constant(housing.target.reshape(-1, 1), dtype=tf.float32, name=\"y\")\n",
    "\n",
    "# Calculate theta using normal equation\n",
    "XT = tf.transpose(X)\n",
    "theta = tf.matmul(tf.matmul(tf.linalg.inv(tf.matmul(XT, X)), XT), y)\n",
    "\n",
    "# In TensorFlow 2.x, you can directly evaluate tensors without a session\n",
    "theta_value = theta.numpy()\n",
    "\n",
    "print(theta_value)\n"
   ]
  },
  {
   "cell_type": "code",
   "execution_count": null,
   "id": "28be8ca8",
   "metadata": {},
   "outputs": [],
   "source": []
  }
 ],
 "metadata": {
  "kernelspec": {
   "display_name": "Python 3 (ipykernel)",
   "language": "python",
   "name": "python3"
  },
  "language_info": {
   "codemirror_mode": {
    "name": "ipython",
    "version": 3
   },
   "file_extension": ".py",
   "mimetype": "text/x-python",
   "name": "python",
   "nbconvert_exporter": "python",
   "pygments_lexer": "ipython3",
   "version": "3.11.5"
  }
 },
 "nbformat": 4,
 "nbformat_minor": 5
}
